{
 "cells": [
  {
   "cell_type": "markdown",
   "metadata": {},
   "source": [
    "## QUESTION 3"
   ]
  },
  {
   "cell_type": "markdown",
   "metadata": {},
   "source": [
    "### 1) Carry out the design of RBF NN based on Gaussian kernel functions with constant spread function and using all the points in the training set as centers of the RB functions. Compare the performance results (mean square error) as you vary the spread parameter while keeping it the same for all kernel functions. Discuss your findings?"
   ]
  },
  {
   "cell_type": "code",
   "execution_count": 1,
   "metadata": {},
   "outputs": [],
   "source": [
    "import numpy as np\n",
    "from scipy.linalg import norm, pinv"
   ]
  },
  {
   "cell_type": "code",
   "execution_count": 2,
   "metadata": {},
   "outputs": [],
   "source": [
    "# TRAINING DATA BY RANDOMLY SAMPLING\n",
    "''' \n",
    "Splitting the 441 dataset into 80% to training and 20% to testing \n",
    "Hence 352 samples considered for training\n",
    "\n",
    "'''\n",
    "in_list = []\n",
    "out_list = []\n",
    "for i in range (352):\n",
    "    x= np.random.randint(0,21)\n",
    "    y= np.random.randint(0,21)\n",
    "\n",
    "    \n",
    "    x1 = -2 +0.2*x\n",
    "    y1 = -2 + 0.2*y\n",
    "    \n",
    "    if ((x1 ** 2 + y1 **2) <=1):\n",
    "        out_list .append(1)\n",
    "    else:\n",
    "        out_list.append(-1)\n",
    "        \n",
    "    in_list.append([x1,y1])\n",
    "    \n",
    "in_list=np.array(in_list)\n",
    "out_list=np.array(out_list)\n",
    "        \n"
   ]
  },
  {
   "cell_type": "code",
   "execution_count": 3,
   "metadata": {},
   "outputs": [],
   "source": [
    "# TESTING DATA BY RANDOMLY SAMPLING\n",
    "''' \n",
    "Splitting the 441 dataset into 80% to training and 20% to testing \n",
    "Hence 89 samples considered for testing\n",
    "\n",
    "'''\n",
    "testin_list = []\n",
    "testout_list = []\n",
    "for i in range (89):\n",
    "    x= np.random.randint(0,21)\n",
    "    y= np.random.randint(0,21)\n",
    "    \n",
    "    x1 = -2 +0.2*x\n",
    "    y1 = -2 + 0.2*y\n",
    "    \n",
    "    if ((x1 ** 2 + y1 **2) <=1):\n",
    "        testout_list.append(1)\n",
    "    else:\n",
    "        testout_list.append(-1)\n",
    "        \n",
    "    testin_list.append([x1,y1])\n",
    "    \n",
    "testin_list=np.array(testin_list)\n",
    "testout_list=np.array(testout_list)\n",
    " "
   ]
  },
  {
   "cell_type": "code",
   "execution_count": 4,
   "metadata": {},
   "outputs": [],
   "source": [
    "def distance (x,c):\n",
    "    ''' Finding the distance ie ||x-c||^2'''\n",
    "    d= norm(x-c)**2\n",
    "    \n",
    "    return d "
   ]
  },
  {
   "cell_type": "code",
   "execution_count": 5,
   "metadata": {},
   "outputs": [],
   "source": [
    "def gaussian(in_list,centers,si):\n",
    "    \n",
    "    '''\n",
    "    Finding the gaussian matrix \n",
    "    which will be of size N*M where N is the number of sample and\n",
    "    M is the number of centers . The inputs taken are (input, centers,sigma)\n",
    "\n",
    "    '''\n",
    "    gauss=np.zeros((in_list.shape[0],centers.shape[0]),float)\n",
    "    for index_c, c in enumerate(centers):\n",
    "        for index_in, in_ in enumerate(in_list):\n",
    "            d = distance(in_,c)\n",
    "            g=np.exp(-d/(2*(si **2)))\n",
    "            \n",
    "            gauss[index_in,index_c]=g\n",
    "            \n",
    "    return gauss\n",
    "            "
   ]
  },
  {
   "cell_type": "code",
   "execution_count": 6,
   "metadata": {},
   "outputs": [],
   "source": [
    "def weight_cal(in_list,centers,si,out_list):\n",
    "    ''' Calculate the weights inputs taken are input,centers, sigma value, and the initial output labels'''\n",
    "    \n",
    "    mat_array=gaussian(in_list,centers,si)\n",
    "    w=np.dot(pinv(mat_array),out_list)\n",
    "    \n",
    "    \n",
    "    return w"
   ]
  },
  {
   "cell_type": "code",
   "execution_count": 7,
   "metadata": {},
   "outputs": [],
   "source": [
    "def cal_output(test_list,centers,sigma,w):\n",
    "    \n",
    "    ''' Finding the output by multiplying G.W. The inputs are taken test input,centers, sigma value, weights'''\n",
    "    \n",
    "    \n",
    "    gauss_mat_test= gaussian(test_list,centers,sigma)\n",
    "    out= np.dot(gauss_mat_test,w)\n",
    "    return out"
   ]
  },
  {
   "cell_type": "code",
   "execution_count": 8,
   "metadata": {},
   "outputs": [],
   "source": [
    "def Mean_sq_err(y_true,y_pred):\n",
    "    ''' inputs taken are true lables, and predicted labels'''\n",
    "    return (np.square(y_true- y_pred).mean())"
   ]
  },
  {
   "cell_type": "code",
   "execution_count": 9,
   "metadata": {},
   "outputs": [],
   "source": [
    "def accuracy_score(y_true,y_pred):\n",
    "    ''' inputs taken are true lables, and predicted labels'''\n",
    "    return np.mean(y_true == y_pred)"
   ]
  },
  {
   "cell_type": "code",
   "execution_count": 27,
   "metadata": {},
   "outputs": [
    {
     "name": "stdout",
     "output_type": "stream",
     "text": [
      "The MSE error when sigma equal to 0.1 is 0.0 and the accuracy is 1.0\n",
      "The MSE error when sigma equal to 0.2 is 0.0898876404494382 and the accuracy is 0.9775280898876404\n",
      "The MSE error when sigma equal to 0.3 is 0.0898876404494382 and the accuracy is 0.9775280898876404\n",
      "The MSE error when sigma equal to 0.4 is 0.449438202247191 and the accuracy is 0.8876404494382022\n",
      "The MSE error when sigma equal to 0.5 is 0.6741573033707865 and the accuracy is 0.8314606741573034\n",
      "The MSE error when sigma equal to 0.6 is 0.7640449438202247 and the accuracy is 0.8089887640449438\n",
      "The MSE error when sigma equal to 0.7 is 0.4943820224719101 and the accuracy is 0.8764044943820225\n",
      "The MSE error when sigma equal to 0.8 is 0.2247191011235955 and the accuracy is 0.9438202247191011\n",
      "The MSE error when sigma equal to 0.9 is 0.2247191011235955 and the accuracy is 0.9438202247191011\n",
      "The MSE error when sigma equal to 1 is 0.0449438202247191 and the accuracy is 0.9887640449438202\n",
      "The MSE error when sigma equal to 2 is 0.0 and the accuracy is 1.0\n",
      "The MSE error when sigma equal to 3 is 0.0449438202247191 and the accuracy is 0.9887640449438202\n",
      "The MSE error when sigma equal to 4 is 0.0449438202247191 and the accuracy is 0.9887640449438202\n",
      "The MSE error when sigma equal to 5 is 0.0 and the accuracy is 1.0\n",
      "The MSE error when sigma equal to 10 is 0.0 and the accuracy is 1.0\n",
      "The MSE error when sigma equal to 15 is 0.1348314606741573 and the accuracy is 0.9662921348314607\n",
      "The MSE error when sigma equal to 20 is 0.0449438202247191 and the accuracy is 0.9887640449438202\n",
      "The MSE error when sigma equal to 25 is 0.0449438202247191 and the accuracy is 0.9887640449438202\n"
     ]
    }
   ],
   "source": [
    "# Sigma range values \n",
    "sigma_list=[0.1,0.2,0.3,0.4,0.5,0.6,0.7,0.8,0.9,1,2,3,4,5,10,15,20,25]\n",
    "error_list=[]\n",
    "accuracy_list=[]\n",
    "for i in sigma_list: \n",
    "    w= weight_cal(in_list,in_list,i,out_list)\n",
    "    y_value= cal_output(testin_list,in_list,i,w)\n",
    "    y_pred= np.sign(y_value)\n",
    "    error= Mean_sq_err(testout_list,y_pred)\n",
    "    error_list.append(error)\n",
    "    accuracy = accuracy_score(testout_list,y_pred)\n",
    "    accuracy_list.append(accuracy)\n",
    "    print(\"The MSE error when sigma equal to {} is {} and the accuracy is {}\".format(i,error,accuracy))"
   ]
  },
  {
   "cell_type": "code",
   "execution_count": 25,
   "metadata": {},
   "outputs": [
    {
     "data": {
      "image/png": "[encoded data removed]",
      "text/plain": [
       "<Figure size 432x288 with 1 Axes>"
      ]
     },
     "metadata": {
      "needs_background": "light"
     },
     "output_type": "display_data"
    }
   ],
   "source": [
    "# PLOTTING THE ERROR \n",
    "import matplotlib.pyplot as plt\n",
    "plt.plot(error_list)\n",
    "plt.title(\"TESTING_MSE_ERROR\")\n",
    "plt.show()\n"
   ]
  },
  {
   "cell_type": "code",
   "execution_count": 26,
   "metadata": {},
   "outputs": [
    {
     "data": {
      "image/png": "[encoded data removed]",
      "text/plain": [
       "<Figure size 432x288 with 1 Axes>"
      ]
     },
     "metadata": {
      "needs_background": "light"
     },
     "output_type": "display_data"
    }
   ],
   "source": [
    "# PLOTTING THE ERROR \n",
    "import matplotlib.pyplot as plt\n",
    "plt.plot(accuracy_list)\n",
    "plt.title(\"TESTING_ACCURACY\")\n",
    "plt.show()"
   ]
  },
  {
   "cell_type": "markdown",
   "metadata": {},
   "source": [
    "## BRIEF SUMMARY OF RBF AND SIGMA VALUE SELECTED"
   ]
  },
  {
   "cell_type": "markdown",
   "metadata": {},
   "source": [
    "RBF uses a nonlinear transformation in the hidden layer transforms low dimensional space to high dimensional space such that it can be easily classified. This is also called the kernel trick. The non linear transformation applied in this problem is the gaussian function.\n",
    "The RBF uses unsupervised method to determine the centers and supervised method to calculate the weights, thus making RBF an hybrid approach.\n",
    "\n",
    "From the implementation and the graph obtained, in this case the accuracy of 100% is obtained when sigma value is 0.1, but during multiple random runs it is noted that sigma value of 0.1 didn't perform consistently. The reason behind this is that smaller width didn't provide good interpolation of the function in between sample points.\n",
    "\n",
    "However, a width value of 1 and 2 provided a good accuracy consistently. In this implementation an accuracy of 100% is obtained when sigma value is 2. This shows that when sigma is 2 an adequate interpolation property is provided to the network.\n",
    "\n",
    "In this particular case, even large value of sigma also performs better, but this is not ideal for all runs as there could be loss of information when the ranges of the radial functions are further away from\n",
    "the original range of the function. It is also noted that since it is a exponential function after a spread value of 20 the accuracy almost saturates.\n",
    "\n",
    "Thus by the mentioned analysis, I have chosen a mid range sigma value of 2 with accuracy of 100% as my optimal width value. \n"
   ]
  },
  {
   "cell_type": "markdown",
   "metadata": {},
   "source": [
    "## 2) Perform the design of the RBF NN, using this time only 150 centers, choosing the centers using two approaches\n"
   ]
  },
  {
   "cell_type": "markdown",
   "metadata": {},
   "source": [
    "### a) Randomly select the centers from the input data."
   ]
  },
  {
   "cell_type": "code",
   "execution_count": 13,
   "metadata": {},
   "outputs": [],
   "source": [
    "random_indices = np.random.choice(in_list.shape[0], size=150, replace=False)"
   ]
  },
  {
   "cell_type": "code",
   "execution_count": 14,
   "metadata": {},
   "outputs": [],
   "source": [
    "list_in_150= in_list[random_indices,:]"
   ]
  },
  {
   "cell_type": "code",
   "execution_count": 36,
   "metadata": {},
   "outputs": [],
   "source": [
    "# For testing kindly change the sigma value for w_150 and y_value_150\n",
    "w_150= weight_cal(in_list,list_in_150,2,out_list)\n",
    "y_value_150= cal_output(testin_list,list_in_150,2,w_150)\n",
    "y_pred_150= np.sign(y_value)\n",
    "error_150= Mean_sq_err(testout_list,y_pred_150)\n",
    "accuracy_150 = accuracy_score(testout_list,y_pred_150)"
   ]
  },
  {
   "cell_type": "code",
   "execution_count": 37,
   "metadata": {},
   "outputs": [
    {
     "name": "stdout",
     "output_type": "stream",
     "text": [
      "The Error for taking 150 random centers with sigma value as 2 is  0.0449438202247191\n",
      "The Accuracy for taking 150 random centers with sigma value as 2 is  0.9887640449438202\n"
     ]
    }
   ],
   "source": [
    "print(\"The Error for taking 150 random centers with sigma value as 2 is \",error_150)\n",
    "print(\"The Accuracy for taking 150 random centers with sigma value as 2 is \",accuracy_150)"
   ]
  },
  {
   "cell_type": "markdown",
   "metadata": {},
   "source": [
    "### b) Use K-Means algorithm to find the centers. You can use a Kmeans function defined in sklearn"
   ]
  },
  {
   "cell_type": "code",
   "execution_count": 17,
   "metadata": {},
   "outputs": [],
   "source": [
    "from sklearn.cluster import KMeans"
   ]
  },
  {
   "cell_type": "code",
   "execution_count": 18,
   "metadata": {},
   "outputs": [],
   "source": [
    "kmeans = KMeans(n_clusters=150)\n",
    "y_kmeans=kmeans.fit(in_list)"
   ]
  },
  {
   "cell_type": "code",
   "execution_count": 19,
   "metadata": {},
   "outputs": [],
   "source": [
    "kmean_center=kmeans.cluster_centers_"
   ]
  },
  {
   "cell_type": "code",
   "execution_count": 34,
   "metadata": {},
   "outputs": [],
   "source": [
    "# For testing kindly change the sigma value for w_k_150 and y_value_k_150\n",
    "w_k_150= weight_cal(in_list,kmean_center,2,out_list) \n",
    "y_value_k_150= cal_output(testin_list,kmean_center,2,w_k_150)\n",
    "y_pred_k_150= np.sign(y_value_k_150)\n",
    "error_k_150= Mean_sq_err(testout_list,y_pred_k_150)\n",
    "accuracy_k_150 = accuracy_score(testout_list,y_pred_k_150)"
   ]
  },
  {
   "cell_type": "code",
   "execution_count": 35,
   "metadata": {},
   "outputs": [
    {
     "name": "stdout",
     "output_type": "stream",
     "text": [
      "The Error for taking 150 kmean centers with sigma value as 2 is  0.0898876404494382\n",
      "The Accuracy for taking 150 kmean centers with sigma value as 2 is  0.9775280898876404\n"
     ]
    }
   ],
   "source": [
    "print(\"The Error for taking 150 kmean centers with sigma value as 2 is \",error_k_150)\n",
    "print(\"The Accuracy for taking 150 kmean centers with sigma value as 2 is \",accuracy_k_150)"
   ]
  },
  {
   "cell_type": "markdown",
   "metadata": {},
   "source": [
    "## RESULT COMPARISON OF 150 CENTERS WITH 352 CENTERS\n"
   ]
  },
  {
   "cell_type": "markdown",
   "metadata": {},
   "source": [
    "From the results obtained due to random intilization of 150 centers from the entire 352 training data, based on the random center selection it sometimes performs better than Kmeans center or some times performs less compared to Kmeans and same sometimes, but the difference in accuracy for kmeans and random 150 center initialization is very less.\n",
    "\n",
    "For optimal performace the hidden layer (i.e) the number of non linear transformation used should be equal to the input data. Too sparse function can cause degradation of the network performance. This can be visualized in the implementation as when the hidden layer is spanned across the input dataspace, the accuracy obtained when sigma value 2 is 100% and when hidden layer was 150 the network performance dropped to 98% for random centers and 97.7% for k means center for the same sigma value. \n",
    "\n",
    "The main intution behind RBF is transforming low dimensional data to high dimensional space for better linear seperability (i.e) higher the dimension better the network performance, and the ideal multi dimensional space for projecting the data is the same as the input dataspace (ie) the number of sample. Hence when the entire training data is considered as centers possibility of better linear seperation of datapoints is possible due to higher dimension than compared to 150 centers. This claim is supported by the results obtained.\n"
   ]
  }
 ],
 "metadata": {
  "kernelspec": {
   "display_name": "Python 3",
   "language": "python",
   "name": "python3"
  },
  "language_info": {
   "codemirror_mode": {
    "name": "ipython",
    "version": 3
   },
   "file_extension": ".py",
   "mimetype": "text/x-python",
   "name": "python",
   "nbconvert_exporter": "python",
   "pygments_lexer": "ipython3",
   "version": "3.6.9"
  }
 },
 "nbformat": 4,
 "nbformat_minor": 4
}
